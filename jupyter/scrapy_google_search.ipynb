{
 "cells": [
  {
   "cell_type": "code",
   "execution_count": 1,
   "id": "5873a6a1",
   "metadata": {},
   "outputs": [],
   "source": [
    "# import requests\n",
    "# import json, sys\n",
    "\n",
    "# headers = {\n",
    "#     'authority': 'www.google.co.in',\n",
    "#     'cache-control': 'max-age=0',\n",
    "#     'sec-ch-ua': '\" Not A;Brand\";v=\"99\", \"Chromium\";v=\"90\", \"Google Chrome\";v=\"90\"',\n",
    "#     'accept': 'text/html,application/xhtml+xml,application/xml;q=0.9,image/avif,image/webp,image/apng,*/*;q=0.8,application/signed-exchange;v=b3;q=0.9',\n",
    "#     'upgrade-insecure-requests': '1',\n",
    "#     'sec-ch-ua-mobile': '?0',\n",
    "#     'user-agent': 'Mozilla/5.0 (X11; Linux x86_64) AppleWebKit/537.36 (KHTML, like Gecko) Chrome/90.0.4430.212 Safari/537.36',\n",
    "#     'x-client-data': 'CI22yQEIo7bJAQipncoBCPjHygEIh9DKAQipncsBCKCgywEI3fLLAQio88sB',\n",
    "#     'sec-fetch-site': 'same-origin',\n",
    "#     'sec-fetch-mode': 'same-origin',\n",
    "#     'sec-fetch-dest': 'empty',\n",
    "#     'accept-language': 'en-US,en;q=0.9',\n",
    "#     'cookie': 'SID=9QdDMLQ7SGF1Wge1qEUyfnQS7-Z-J2SoNM2CGQACgHRi_iMcpeOSJV9uriWGtdU-0_so5A.; __Secure-3PSID=9QdDMLQ7SGF1Wge1qEUyfnQS7-Z-J2SoNM2CGQACgHRi_iMcm4dPXv7J64NCqp-O7xLeiQ.; HSID=AZ-96hEPSyOjERKmZ; SSID=AD6RfvoQ1AKC6UuFI; APISID=LKvLMlehONHAx0XH/ATlwEojgNcccmonog; SAPISID=iT7oG3SM20oKvXfr/AUHcNdO7kAlmr_qo3; __Secure-3PAPISID=iT7oG3SM20oKvXfr/AUHcNdO7kAlmr_qo3; NID=216=n0ZFAs_wmCNt8BN68c2Y0ofj80Sfneh1UvE-MjhjDK3UJEL4RL_gefAWnNQekx_4j4eSN2b3SM_txHfoHZF1LoK9itYlCC1qyTJV03WYaHajeRY1uYQR430-mk7iC3ZmV_xzF9Br8s0dx46G8FIihuAmwDtvwOX9r3kX2TZKhqPZpz_Z9K2uoCn50D8GiiFdjgV-zgMZUzNoUPeK3bXX9NyBwJJ4cg; 1P_JAR=2021-05-24-13',\n",
    "# }\n",
    "\n",
    "# response = requests.get('https://www.google.co.in/maps/place/Government+Wines+%26+Beer+Shop/@28.623992,76.9939172,12z/data=/u00214m9/u00211m2/u00212m1/u00211swine+shop+delhi/u00213m5/u00211s0x390d04dbb9452e63:0x6542ac6232d323d4/u00218m2/u00213d28.6240175/u00214d77.0639418/u002115sCg93aW5lIHNob3AgZGVsaGlaHAoJd2luZSBzaG9wIg93aW5lIHNob3AgZGVsaGmSAQxsaXF1b3Jfc3RvcmU', headers=headers)\n"
   ]
  },
  {
   "cell_type": "code",
   "execution_count": 6,
   "id": "a5c516ce",
   "metadata": {},
   "outputs": [],
   "source": [
    "# import requests\n",
    "\n",
    "# headers = {\n",
    "#     'authority': 'www.google.co.in',\n",
    "#     'cache-control': 'max-age=0',\n",
    "#     'sec-ch-ua': '\" Not A;Brand\";v=\"99\", \"Chromium\";v=\"90\", \"Google Chrome\";v=\"90\"',\n",
    "#     'accept': 'text/html,application/xhtml+xml,application/xml;q=0.9,image/avif,image/webp,image/apng,*/*;q=0.8,application/signed-exchange;v=b3;q=0.9',\n",
    "# #     'upgrade-insecure-requests': '1',\n",
    "# #     'sec-ch-ua-mobile': '?0',\n",
    "#     'user-agent': 'Mozilla/5.0 (X11; Linux x86_64) AppleWebKit/537.36 (KHTML, like Gecko) Chrome/90.0.4430.212 Safari/537.36',\n",
    "# #     'x-client-data': 'CI22yQEIo7bJAQipncoBCPjHygEIh9DKAQipncsBCKCgywEI3fLLAQio88sB',\n",
    "# #     'sec-fetch-site': 'same-origin',\n",
    "# #     'sec-fetch-mode': 'same-origin',\n",
    "# #     'sec-fetch-dest': 'empty',\n",
    "# #     'referer': 'https://www.google.com/',\n",
    "# #     'accept-language': 'en-US,en;q=0.9',\n",
    "#     'cookie': 'SID=9QdDMLQ7SGF1Wge1qEUyfnQS7-Z-J2SoNM2CGQACgHRi_iMcpeOSJV9uriWGtdU-0_so5A.; __Secure-3PSID=9QdDMLQ7SGF1Wge1qEUyfnQS7-Z-J2SoNM2CGQACgHRi_iMcm4dPXv7J64NCqp-O7xLeiQ.; HSID=AZ-96hEPSyOjERKmZ; SSID=AD6RfvoQ1AKC6UuFI; APISID=LKvLMlehONHAx0XH/ATlwEojgNcccmonog; SAPISID=iT7oG3SM20oKvXfr/AUHcNdO7kAlmr_qo3; __Secure-3PAPISID=iT7oG3SM20oKvXfr/AUHcNdO7kAlmr_qo3; 1P_JAR=2021-05-25-05; NID=216=HC_ZU31LFT8JhV0GKc1ofhuxUiUk5Mk8NrZoFnIvDjmyXVbPfSjMPJbE_N30aQMWwzTCaCHHrh2AT8cdhDM_-AJMMMtIB1qpCGGSLBp9Ud_61A8urnRvNVXWHeSe6bJPyRNOhGmFQ1zWnUqUp_fgBZk_Q3Yhx_zhLz3uzWqQxJ2XcQ9iVp5-Os_dIEkKwvyiWiXhvhjNbco_tlD7APOHx7tCUzCCog',\n",
    "# }\n",
    "\n",
    "# response = requests.get('https://www.google.co.in/maps/search/restaurants/@28.616723,77.0458218,14z/data=/u00213m1/u00214b1', headers=headers)\n"
   ]
  },
  {
   "cell_type": "code",
   "execution_count": null,
   "id": "e9765474",
   "metadata": {},
   "outputs": [],
   "source": [
    "import scrapy\n",
    "import json\n",
    "\n",
    "\n",
    "\n",
    "class ZillowSpider(scrapy.Spider):\n",
    "    name = 'zillow'\n",
    "    # allowed_domains = ['zillow.com']\n",
    "    start_urls = ['https://www.zillow.com/search/GetSearchPageState.htm?searchQueryState=%7B%22pagination%22%3A%7B%7D%2C%22usersSearchTerm%22%3A%22Georgia%22%2C%22mapBounds%22%3A%7B%22west%22%3A-86.16657725%2C%22east%22%3A-80.19001475%2C%22south%22%3A31.475131116062826%2C%22north%22%3A33.924747435995826%7D%2C%22mapZoom%22%3A7%2C%22regionSelection%22%3A%5B%7B%22regionId%22%3A16%2C%22regionType%22%3A2%7D%5D%2C%22isMapVisible%22%3Atrue%2C%22filterState%22%3A%7B%22isAllHomes%22%3A%7B%22value%22%3Atrue%7D%2C%22sortSelection%22%3A%7B%22value%22%3A%22globalrelevanceex%22%7D%7D%2C%22isListVisible%22%3Atrue%7D&wants={%22cat1%22:[%22mapResults%22]}&requestId=2']\n",
    "    \n",
    "\n",
    "    def parse(self, response):\n",
    "        # items = GeorgiaItem()\n",
    "        raw = response.text\n",
    "        data = json.loads(raw)\n",
    "        \n",
    "        for desc in data['cat1']['searchResults']['mapResults']['hdpData']['homeInfo']:\n",
    "            items = {\n",
    "                'Zipcode': desc['zipcode'],\n",
    "                'City': data['city'],\n",
    "                'State': data['state']\n",
    "                # 'Price': desc['price'],\n",
    "                # 'Zipcode': 'for value in data[cat1][searchResults][mapResults][desc]'\n",
    "                # 'Zipcode': desc['hdpData']['homeInfo']['zipcode']\n",
    "                # 'City': desc['hdpData']['homeInfo']['city'],\n",
    "                # 'State': desc['hdpData']['homeInfo']['state']\n",
    "\n",
    "\n",
    "                \n",
    "                # 'Zipcode': desc['hdpData']\n",
    "\n",
    "            }\n",
    "            yield items "
   ]
  },
  {
   "cell_type": "code",
   "execution_count": null,
   "id": "2ab36c98",
   "metadata": {},
   "outputs": [],
   "source": []
  },
  {
   "cell_type": "code",
   "execution_count": null,
   "id": "e12d40de",
   "metadata": {},
   "outputs": [],
   "source": []
  }
 ],
 "metadata": {
  "kernelspec": {
   "display_name": "Python 3",
   "language": "python",
   "name": "python3"
  },
  "language_info": {
   "codemirror_mode": {
    "name": "ipython",
    "version": 3
   },
   "file_extension": ".py",
   "mimetype": "text/x-python",
   "name": "python",
   "nbconvert_exporter": "python",
   "pygments_lexer": "ipython3",
   "version": "3.8.5"
  }
 },
 "nbformat": 4,
 "nbformat_minor": 5
}
